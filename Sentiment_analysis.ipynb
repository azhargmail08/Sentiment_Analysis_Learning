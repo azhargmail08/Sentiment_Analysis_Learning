{
 "cells": [
  {
   "cell_type": "code",
   "execution_count": 14,
   "id": "c5d5ce9a-fdab-44e6-97db-cf7ed53c465e",
   "metadata": {},
   "outputs": [],
   "source": [
    "import tensorflow as tf\n",
    "from tensorflow.keras.preprocessing.text import Tokenizer\n",
    "from tensorflow.keras.preprocessing.sequence import pad_sequences\n",
    "from sklearn.model_selection import train_test_split\n",
    "import numpy as np"
   ]
  },
  {
   "cell_type": "code",
   "execution_count": 15,
   "id": "6e7abefe-55c2-4c50-902a-1ec653a5e44e",
   "metadata": {},
   "outputs": [],
   "source": [
    "texts = [\"This movie is fantastic!\",\n",
    "         \"I didn't like the acting.\",\n",
    "         \"The plot was confusing.\",\n",
    "         \"Amazing cinematography!\",\n",
    "         \"The worst movie I've ever seen.\",\n",
    "         \"What the hell is this movie even?!.\"        \n",
    "        ]\n",
    "\n",
    "labels = [1,0,0,1,0,0] #1 = positive, 0 = negative"
   ]
  },
  {
   "cell_type": "code",
   "execution_count": 16,
   "id": "b5de0fdd-a6c0-475f-852f-1d3fb5e808fe",
   "metadata": {},
   "outputs": [],
   "source": [
    "max_words = 1000\n",
    "max_len = 100\n",
    "tokenizer = Tokenizer(num_words = max_words)\n",
    "tokenizer.fit_on_texts(texts)\n",
    "sequences = tokenizer.texts_to_sequences(texts)\n",
    "padded_sequences = pad_sequences(sequences, maxlen=max_len)"
   ]
  },
  {
   "cell_type": "code",
   "execution_count": 24,
   "id": "66b17143-b586-4264-b315-e81b9c49e16f",
   "metadata": {},
   "outputs": [],
   "source": [
    "#split date using scikit-learn model's selection\n",
    "X_train, X_test, y_train, y_test = train_test_split(padded_sequences, labels, test_size=0.2, random_state=42)"
   ]
  },
  {
   "cell_type": "code",
   "execution_count": 18,
   "id": "06add0c2-e435-42d7-95a0-7e2e25cb5b4b",
   "metadata": {},
   "outputs": [],
   "source": [
    "#define a model using keras\n",
    "model = tf.keras.Sequential([    \n",
    "    tf.keras.layers.Embedding(input_dim=max_words, output_dim=16),\n",
    "    tf.keras.layers.Flatten(),\n",
    "    tf.keras.layers.Dense(8, activation='relu'),\n",
    "    tf.keras.layers.Dense(1, activation='sigmoid')\n",
    "])"
   ]
  },
  {
   "cell_type": "code",
   "execution_count": 19,
   "id": "592495f0-f358-4f23-b5b5-30b85eddb9ab",
   "metadata": {},
   "outputs": [],
   "source": [
    "#model compilation\n",
    "model.compile(optimizer = 'adam',\n",
    "              loss='binary_crossentropy',\n",
    "              metrics=['accuracy']\n",
    "             )"
   ]
  },
  {
   "cell_type": "code",
   "execution_count": 20,
   "id": "59545f27-a0d4-4e76-8ac8-d11f613a701a",
   "metadata": {},
   "outputs": [
    {
     "name": "stdout",
     "output_type": "stream",
     "text": [
      "Epoch 1/13\n",
      "\u001b[1m1/1\u001b[0m \u001b[32m━━━━━━━━━━━━━━━━━━━━\u001b[0m\u001b[37m\u001b[0m \u001b[1m1s\u001b[0m 1s/step - accuracy: 0.7500 - loss: 0.6791\n",
      "Epoch 2/13\n",
      "\u001b[1m1/1\u001b[0m \u001b[32m━━━━━━━━━━━━━━━━━━━━\u001b[0m\u001b[37m\u001b[0m \u001b[1m0s\u001b[0m 31ms/step - accuracy: 0.7500 - loss: 0.6567\n",
      "Epoch 3/13\n",
      "\u001b[1m1/1\u001b[0m \u001b[32m━━━━━━━━━━━━━━━━━━━━\u001b[0m\u001b[37m\u001b[0m \u001b[1m0s\u001b[0m 32ms/step - accuracy: 0.7500 - loss: 0.6385\n",
      "Epoch 4/13\n",
      "\u001b[1m1/1\u001b[0m \u001b[32m━━━━━━━━━━━━━━━━━━━━\u001b[0m\u001b[37m\u001b[0m \u001b[1m0s\u001b[0m 30ms/step - accuracy: 0.7500 - loss: 0.6213\n",
      "Epoch 5/13\n",
      "\u001b[1m1/1\u001b[0m \u001b[32m━━━━━━━━━━━━━━━━━━━━\u001b[0m\u001b[37m\u001b[0m \u001b[1m0s\u001b[0m 31ms/step - accuracy: 0.7500 - loss: 0.6051\n",
      "Epoch 6/13\n",
      "\u001b[1m1/1\u001b[0m \u001b[32m━━━━━━━━━━━━━━━━━━━━\u001b[0m\u001b[37m\u001b[0m \u001b[1m0s\u001b[0m 29ms/step - accuracy: 0.7500 - loss: 0.5901\n",
      "Epoch 7/13\n",
      "\u001b[1m1/1\u001b[0m \u001b[32m━━━━━━━━━━━━━━━━━━━━\u001b[0m\u001b[37m\u001b[0m \u001b[1m0s\u001b[0m 29ms/step - accuracy: 0.7500 - loss: 0.5767\n",
      "Epoch 8/13\n",
      "\u001b[1m1/1\u001b[0m \u001b[32m━━━━━━━━━━━━━━━━━━━━\u001b[0m\u001b[37m\u001b[0m \u001b[1m0s\u001b[0m 27ms/step - accuracy: 0.7500 - loss: 0.5652\n",
      "Epoch 9/13\n",
      "\u001b[1m1/1\u001b[0m \u001b[32m━━━━━━━━━━━━━━━━━━━━\u001b[0m\u001b[37m\u001b[0m \u001b[1m0s\u001b[0m 29ms/step - accuracy: 0.7500 - loss: 0.5559\n",
      "Epoch 10/13\n",
      "\u001b[1m1/1\u001b[0m \u001b[32m━━━━━━━━━━━━━━━━━━━━\u001b[0m\u001b[37m\u001b[0m \u001b[1m0s\u001b[0m 30ms/step - accuracy: 0.7500 - loss: 0.5491\n",
      "Epoch 11/13\n",
      "\u001b[1m1/1\u001b[0m \u001b[32m━━━━━━━━━━━━━━━━━━━━\u001b[0m\u001b[37m\u001b[0m \u001b[1m0s\u001b[0m 30ms/step - accuracy: 0.7500 - loss: 0.5448\n",
      "Epoch 12/13\n",
      "\u001b[1m1/1\u001b[0m \u001b[32m━━━━━━━━━━━━━━━━━━━━\u001b[0m\u001b[37m\u001b[0m \u001b[1m0s\u001b[0m 30ms/step - accuracy: 0.7500 - loss: 0.5427\n",
      "Epoch 13/13\n",
      "\u001b[1m1/1\u001b[0m \u001b[32m━━━━━━━━━━━━━━━━━━━━\u001b[0m\u001b[37m\u001b[0m \u001b[1m0s\u001b[0m 30ms/step - accuracy: 0.7500 - loss: 0.5422\n"
     ]
    },
    {
     "data": {
      "text/plain": [
       "<keras.src.callbacks.history.History at 0x1d693c9dbb0>"
      ]
     },
     "execution_count": 20,
     "metadata": {},
     "output_type": "execute_result"
    }
   ],
   "source": [
    "#training model\n",
    "model.fit(X_train, np.array(y_train), epochs=13, batch_size=5)"
   ]
  },
  {
   "cell_type": "code",
   "execution_count": 25,
   "id": "635cbca0-3ca1-4f46-8243-76da795ca808",
   "metadata": {},
   "outputs": [
    {
     "name": "stdout",
     "output_type": "stream",
     "text": [
      "\u001b[1m1/1\u001b[0m \u001b[32m━━━━━━━━━━━━━━━━━━━━\u001b[0m\u001b[37m\u001b[0m \u001b[1m0s\u001b[0m 155ms/step - accuracy: 0.5000 - loss: 0.8750\n",
      "Test Accuracy 0.5\n"
     ]
    }
   ],
   "source": [
    "#model eval\n",
    "loss, accuracy = model.evaluate(X_test, np.array(y_test))\n",
    "print(f'Test Accuracy {accuracy}')"
   ]
  },
  {
   "cell_type": "code",
   "execution_count": 27,
   "id": "c7b0b7c2-27de-4724-9507-28a0047119e8",
   "metadata": {},
   "outputs": [],
   "source": [
    "#Test the model\n",
    "test_texts = [\"This movie is amazing!\",\n",
    "              \"The acting was terrible.\",\n",
    "              \"I loved the plot.\",\n",
    "              \"It's a great film.\",\n",
    "              \"I hated every minute of it.\"]"
   ]
  },
  {
   "cell_type": "code",
   "execution_count": 28,
   "id": "133e5439-d01e-4fa8-ba10-b38e3f733d84",
   "metadata": {},
   "outputs": [],
   "source": [
    "#tokenization and data test \n",
    "test_sequences = tokenizer.texts_to_sequences(test_texts)\n",
    "padded_test_sequences = pad_sequences(test_sequences, maxlen=max_len)"
   ]
  },
  {
   "cell_type": "code",
   "execution_count": 29,
   "id": "5e326040-c62e-4709-b7d2-68ca7095ed1f",
   "metadata": {},
   "outputs": [
    {
     "name": "stdout",
     "output_type": "stream",
     "text": [
      "\u001b[1m1/1\u001b[0m \u001b[32m━━━━━━━━━━━━━━━━━━━━\u001b[0m\u001b[37m\u001b[0m \u001b[1m0s\u001b[0m 76ms/step\n"
     ]
    }
   ],
   "source": [
    "#sentiment prediction\n",
    "predictions = model.predict(padded_test_sequences)"
   ]
  },
  {
   "cell_type": "code",
   "execution_count": 30,
   "id": "9117f897-3a7f-417b-a499-50a026d32284",
   "metadata": {},
   "outputs": [],
   "source": [
    "#predictions conversion\n",
    "binary_predictions = [1 if pred > 0.5 else 0 for pred in predictions]"
   ]
  },
  {
   "cell_type": "code",
   "execution_count": 33,
   "id": "25e18d26-772b-49b8-82cf-8b005af2e6b6",
   "metadata": {},
   "outputs": [
    {
     "name": "stdout",
     "output_type": "stream",
     "text": [
      "Text: 'This movie is amazing!', Predicted Sentiment: negative\n",
      "Text: 'The acting was terrible.', Predicted Sentiment: negative\n",
      "Text: 'I loved the plot.', Predicted Sentiment: negative\n",
      "Text: 'It's a great film.', Predicted Sentiment: negative\n",
      "Text: 'I hated every minute of it.', Predicted Sentiment: negative\n"
     ]
    }
   ],
   "source": [
    "#print test texts and predicted sentiments\n",
    "for text, pred in zip(test_texts, binary_predictions):\n",
    "    sentiment = \"positive\" if pred == 1 else \"negative\"\n",
    "    print(f\"Text: '{text}', Predicted Sentiment: {sentiment}\")"
   ]
  },
  {
   "cell_type": "code",
   "execution_count": null,
   "id": "4e7f1476-b943-4add-91ff-ee5b59ef916a",
   "metadata": {},
   "outputs": [],
   "source": [
    "#turns out i need to introduce more words diversity xD"
   ]
  }
 ],
 "metadata": {
  "kernelspec": {
   "display_name": "Python 3 (ipykernel)",
   "language": "python",
   "name": "python3"
  },
  "language_info": {
   "codemirror_mode": {
    "name": "ipython",
    "version": 3
   },
   "file_extension": ".py",
   "mimetype": "text/x-python",
   "name": "python",
   "nbconvert_exporter": "python",
   "pygments_lexer": "ipython3",
   "version": "3.12.2"
  }
 },
 "nbformat": 4,
 "nbformat_minor": 5
}
